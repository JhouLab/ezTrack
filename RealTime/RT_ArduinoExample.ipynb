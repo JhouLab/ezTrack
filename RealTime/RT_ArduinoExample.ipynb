{
 "cells": [
  {
   "cell_type": "markdown",
   "id": "d17ff468",
   "metadata": {},
   "source": [
    "# Load Packages"
   ]
  },
  {
   "cell_type": "code",
   "execution_count": null,
   "id": "7485220d",
   "metadata": {},
   "outputs": [],
   "source": [
    "%load_ext autoreload\n",
    "%autoreload 2\n",
    "\n",
    "from RT_arduino import Arduino"
   ]
  },
  {
   "cell_type": "markdown",
   "id": "58f1283a",
   "metadata": {},
   "source": [
    "# Initialize connection with Arduino"
   ]
  },
  {
   "cell_type": "code",
   "execution_count": null,
   "id": "8b682b33",
   "metadata": {},
   "outputs": [],
   "source": [
    "ard = Arduino(\n",
    "    port = '/dev/cu.usbmodem14301',\n",
    "    keys_dout = {\n",
    "        'light' : 13\n",
    "    }\n",
    ")\n",
    "ard.initialize()"
   ]
  },
  {
   "cell_type": "markdown",
   "id": "1beb18c8",
   "metadata": {},
   "source": [
    "# Deliver signal to turn on light on Arduino board"
   ]
  },
  {
   "cell_type": "markdown",
   "id": "c4e7d04c",
   "metadata": {},
   "source": [
    "#### Turn on light"
   ]
  },
  {
   "cell_type": "code",
   "execution_count": null,
   "id": "0cfbb619",
   "metadata": {},
   "outputs": [],
   "source": [
    "ard.digitalHigh('light')"
   ]
  },
  {
   "cell_type": "markdown",
   "id": "f0d04dd9",
   "metadata": {},
   "source": [
    "#### Turn off light"
   ]
  },
  {
   "cell_type": "code",
   "execution_count": null,
   "id": "ae12364e",
   "metadata": {},
   "outputs": [],
   "source": [
    "ard.digitalLow('light')"
   ]
  },
  {
   "cell_type": "markdown",
   "id": "2c59578a",
   "metadata": {},
   "source": [
    "#### Turn on light for 5 seconds"
   ]
  },
  {
   "cell_type": "code",
   "execution_count": null,
   "id": "8a2efff2",
   "metadata": {},
   "outputs": [],
   "source": [
    "ard.digitalHigh('light', hold=5)"
   ]
  },
  {
   "cell_type": "markdown",
   "id": "6f1b5596",
   "metadata": {},
   "source": [
    "# Close connection with Arduino"
   ]
  },
  {
   "cell_type": "code",
   "execution_count": null,
   "id": "f737b0b3",
   "metadata": {},
   "outputs": [],
   "source": [
    "ard.stop()"
   ]
  }
 ],
 "metadata": {
  "kernelspec": {
   "display_name": "Python 3 (ipykernel)",
   "language": "python",
   "name": "python3"
  },
  "language_info": {
   "codemirror_mode": {
    "name": "ipython",
    "version": 3
   },
   "file_extension": ".py",
   "mimetype": "text/x-python",
   "name": "python",
   "nbconvert_exporter": "python",
   "pygments_lexer": "ipython3",
   "version": "3.9.6"
  }
 },
 "nbformat": 4,
 "nbformat_minor": 5
}
