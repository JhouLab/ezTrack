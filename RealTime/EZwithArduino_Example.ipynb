{
 "cells": [
  {
   "cell_type": "markdown",
   "metadata": {},
   "source": [
    "# Load Packages"
   ]
  },
  {
   "cell_type": "code",
   "execution_count": null,
   "metadata": {},
   "outputs": [],
   "source": [
    "%load_ext autoreload\n",
    "%autoreload 2\n",
    "\n",
    "import time\n",
    "from matplotlib import pyplot as plt\n",
    "from threading import Thread\n",
    "import RT_functions as rt\n",
    "import RT_arduino as arduino"
   ]
  },
  {
   "cell_type": "markdown",
   "metadata": {},
   "source": [
    "# Initialize connection with Arduino"
   ]
  },
  {
   "cell_type": "code",
   "execution_count": null,
   "metadata": {},
   "outputs": [],
   "source": [
    "ard = arduino.Arduino(\n",
    "    port = '/dev/cu.usbmodem14401',\n",
    "    keys_dout = {\n",
    "        'light' : 13,\n",
    "        'ttl' : 7\n",
    "    }\n",
    ")\n",
    "ard.initialize()"
   ]
  },
  {
   "cell_type": "markdown",
   "metadata": {},
   "source": [
    "# Create Video Instance"
   ]
  },
  {
   "cell_type": "code",
   "execution_count": null,
   "metadata": {},
   "outputs": [],
   "source": [
    "vid = rt.Video(src=0)\n",
    "vid.start()"
   ]
  },
  {
   "cell_type": "markdown",
   "metadata": {},
   "source": [
    "# Define Cropping Bounds"
   ]
  },
  {
   "cell_type": "code",
   "execution_count": null,
   "metadata": {},
   "outputs": [],
   "source": [
    "%output size = 50\n",
    "\n",
    "vid.crop_define()"
   ]
  },
  {
   "cell_type": "markdown",
   "metadata": {},
   "source": [
    "# Select Regions of Interest"
   ]
  },
  {
   "cell_type": "code",
   "execution_count": null,
   "metadata": {},
   "outputs": [],
   "source": [
    "%output size = 100\n",
    "\n",
    "vid.roi_define(names=['region'])"
   ]
  },
  {
   "cell_type": "markdown",
   "metadata": {},
   "source": [
    "# Set Reference Frame for Tracking"
   ]
  },
  {
   "cell_type": "code",
   "execution_count": null,
   "metadata": {},
   "outputs": [],
   "source": [
    "vid.ref_create(secs=1, print_sts=False)\n",
    "\n",
    "plt.imshow(vid.ref, cmap='gray')"
   ]
  },
  {
   "cell_type": "markdown",
   "metadata": {},
   "source": [
    "# Set Tracking Parameters"
   ]
  },
  {
   "cell_type": "code",
   "execution_count": null,
   "metadata": {},
   "outputs": [],
   "source": [
    "vid.track_method = 'abs'\n",
    "vid.track_thresh = 95\n",
    "vid.track_window_use = False\n",
    "vid.track_window_sz = 100\n",
    "vid.track_window_wt = 0.9\n",
    "vid.track_rmvwire = False\n",
    "vid.track_rmvwire_krn = 10"
   ]
  },
  {
   "cell_type": "markdown",
   "metadata": {},
   "source": [
    "# Initialize tracking"
   ]
  },
  {
   "cell_type": "code",
   "execution_count": null,
   "metadata": {},
   "outputs": [],
   "source": [
    "vid.track = True"
   ]
  },
  {
   "cell_type": "markdown",
   "metadata": {},
   "source": [
    "# Initialize Data Writer\n",
    "This should be done after any cropping is performed and tracking has begun (if tracking), as a video instance of the current frame size will be initiated."
   ]
  },
  {
   "cell_type": "code",
   "execution_count": null,
   "metadata": {},
   "outputs": [],
   "source": [
    "vid.writer_init(dpath='/Users/zachpennington/Desktop/test')"
   ]
  },
  {
   "cell_type": "markdown",
   "metadata": {},
   "source": [
    "# Run task"
   ]
  },
  {
   "cell_type": "markdown",
   "metadata": {},
   "source": [
    "`Video.display` cannot be run within its own thread due to OpenCV constraints.  As a result, we start the task in a thread and then open displayer."
   ]
  },
  {
   "cell_type": "code",
   "execution_count": null,
   "metadata": {},
   "outputs": [],
   "source": [
    "def task(): \n",
    "    duration = 10\n",
    "    in_region = False\n",
    "    vid.writer_start() \n",
    "    start_time = time.time() \n",
    "    while time.time()-start_time < duration:\n",
    "        if vid.track_roi['region']:\n",
    "            if not in_region:\n",
    "                in_region = True\n",
    "                ard.digitalHigh('light')\n",
    "        else:\n",
    "            if in_region:\n",
    "                in_region = False\n",
    "                ard.digitalLow('light')\n",
    "        time.sleep(.001) #Allow other threads to run\n",
    "    vid.release()"
   ]
  },
  {
   "cell_type": "code",
   "execution_count": null,
   "metadata": {},
   "outputs": [],
   "source": [
    "Thread(target=task, args=()).start()  \n",
    "vid.display(show_xy=True, show_dif=True)  "
   ]
  }
 ],
 "metadata": {
  "kernelspec": {
   "display_name": "Python 3 (ipykernel)",
   "language": "python",
   "name": "python3"
  },
  "language_info": {
   "codemirror_mode": {
    "name": "ipython",
    "version": 3
   },
   "file_extension": ".py",
   "mimetype": "text/x-python",
   "name": "python",
   "nbconvert_exporter": "python",
   "pygments_lexer": "ipython3",
   "version": "3.9.6"
  }
 },
 "nbformat": 4,
 "nbformat_minor": 2
}
