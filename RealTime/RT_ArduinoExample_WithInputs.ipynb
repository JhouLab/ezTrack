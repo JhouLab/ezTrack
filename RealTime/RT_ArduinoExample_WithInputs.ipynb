{
 "cells": [
  {
   "cell_type": "markdown",
   "id": "d17ff468",
   "metadata": {},
   "source": [
    "# Load Packages"
   ]
  },
  {
   "cell_type": "code",
   "execution_count": 1,
   "id": "7485220d",
   "metadata": {},
   "outputs": [],
   "source": [
    "%load_ext autoreload\n",
    "%autoreload 2\n",
    "\n",
    "from RT_arduino import Arduino"
   ]
  },
  {
   "cell_type": "markdown",
   "id": "58f1283a",
   "metadata": {},
   "source": [
    "# Initialize connection with Arduino"
   ]
  },
  {
   "cell_type": "markdown",
   "id": "79779b5b-f8ad-4a45-9564-63b634f711fa",
   "metadata": {},
   "source": [
    "Note that `keys_dout` can be removed from below if not using digital outputs.  Likewise, `keys_din` can be removed from below if not using digital inputs.\n",
    "\n",
    "**If utilizing digital inputs, ports must also be set in line 7 of `ArduinoSketch.ino`**"
   ]
  },
  {
   "cell_type": "code",
   "execution_count": null,
   "id": "8b682b33",
   "metadata": {},
   "outputs": [],
   "source": [
    "ard = Arduino(\n",
    "    port = '/dev/cu.usbmodem1101',\n",
    "    keys_dout = {\n",
    "        'light' : 13\n",
    "     },\n",
    "    keys_din = {\n",
    "        'beam1' : 4,\n",
    "        'beam2' : 5,\n",
    "    }\n",
    ")\n",
    "ard.initialize()"
   ]
  },
  {
   "cell_type": "markdown",
   "id": "1beb18c8",
   "metadata": {},
   "source": [
    "# Deliver signal to turn on light on Arduino board"
   ]
  },
  {
   "cell_type": "markdown",
   "id": "c4e7d04c",
   "metadata": {},
   "source": [
    "#### Turn on light"
   ]
  },
  {
   "cell_type": "code",
   "execution_count": null,
   "id": "0cfbb619",
   "metadata": {},
   "outputs": [],
   "source": [
    "ard.digitalHigh('light')"
   ]
  },
  {
   "cell_type": "markdown",
   "id": "f0d04dd9",
   "metadata": {},
   "source": [
    "#### Turn off light"
   ]
  },
  {
   "cell_type": "code",
   "execution_count": null,
   "id": "ae12364e",
   "metadata": {},
   "outputs": [],
   "source": [
    "ard.digitalLow('light')"
   ]
  },
  {
   "cell_type": "markdown",
   "id": "2c59578a",
   "metadata": {},
   "source": [
    "#### Turn on light for 5 seconds"
   ]
  },
  {
   "cell_type": "code",
   "execution_count": null,
   "id": "8a2efff2",
   "metadata": {},
   "outputs": [],
   "source": [
    "ard.digitalHigh('light', hold=5)"
   ]
  },
  {
   "cell_type": "markdown",
   "id": "9d271d94-989c-4bd8-9d63-2e4620959981",
   "metadata": {},
   "source": [
    "# Create simple task where beam break on active port triggers arduino led\n",
    "\n",
    "The following assumes digital input named beam1 is connected to Arduino.  \n",
    "Whenever beam is broken led is lit up.  \n",
    "Additionally, inputs from both ports are recorded in dataframe."
   ]
  },
  {
   "cell_type": "code",
   "execution_count": null,
   "id": "d77dd992-2872-471e-8865-d25aba7dee69",
   "metadata": {},
   "outputs": [],
   "source": [
    "import pandas as pd\n",
    "import time\n",
    "from threading import Thread\n",
    "\n",
    "def task(duration=3, active='beam1'):\n",
    "    \n",
    "    Tstart = time.time() #start time\n",
    "    ard.flushInput() #flush any existing input data before starting\n",
    "    ##global df\n",
    "    df = pd.DataFrame(columns = ['din','state','time']) #initialize data frame\n",
    "\n",
    "    while time.time() - Tstart < duration:\n",
    "        if not ard.q_inputs.empty():\n",
    "            i = ard.q_inputs.get()\n",
    "            if i['din'] == ard.keys_din[active]:\n",
    "                if i['state'] == 0: #beam broken\n",
    "                    ard.digitalHigh('light')\n",
    "                else: #beam unbroken\n",
    "                    ard.digitalLow('light')\n",
    "            df = pd.concat([df, pd.DataFrame(i, index=[0])])\n",
    "    print(df)\n",
    "\n",
    "Thread(target=task, kwargs=({'duration':10, 'active':'beam1'})).start()"
   ]
  },
  {
   "cell_type": "markdown",
   "id": "6f1b5596",
   "metadata": {},
   "source": [
    "# Close connection with Arduino"
   ]
  },
  {
   "cell_type": "code",
   "execution_count": null,
   "id": "f737b0b3",
   "metadata": {},
   "outputs": [],
   "source": [
    "ard.stop()"
   ]
  }
 ],
 "metadata": {
  "kernelspec": {
   "display_name": "Python 3 (ipykernel)",
   "language": "python",
   "name": "python3"
  },
  "language_info": {
   "codemirror_mode": {
    "name": "ipython",
    "version": 3
   },
   "file_extension": ".py",
   "mimetype": "text/x-python",
   "name": "python",
   "nbconvert_exporter": "python",
   "pygments_lexer": "ipython3",
   "version": "3.9.16"
  }
 },
 "nbformat": 4,
 "nbformat_minor": 5
}
